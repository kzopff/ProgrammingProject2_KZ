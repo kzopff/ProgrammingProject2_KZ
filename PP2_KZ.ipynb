{
 "cells": [
  {
   "cell_type": "markdown",
   "metadata": {},
   "source": [
    "# Programming Project 2\n",
    "---\n",
    "**Author:** Katie Zopff  \n",
    "**Version:** 1.0  \n",
    "**Semester:** Fall 2020  \n",
    "\n",
    "This *notebook* contains my solution to **Programming Project 2**"
   ]
  },
  {
   "cell_type": "markdown",
   "metadata": {},
   "source": [
    "**1.**"
   ]
  },
  {
   "cell_type": "code",
   "execution_count": 4,
   "metadata": {},
   "outputs": [],
   "source": [
    "presidents = [['George','Washington',1789,1797,'VA','2/22/1732','12/14/1799',57,67],\n",
    "['John','Adams1',1797,1801,'MA','10/30/1735','7/4/1826',61,90],\n",
    "['Thomas','Jefferson',1801,1809,'VA','4/13/1743','7/4/1826',57,83],\n",
    "['James','Madison',1809,1817,'VA','3/16/1751','6/28/1836',57,85],\n",
    "['James','Monroe',1817,1825,'VA','4/28/1758','7/4/1831',58,73],\n",
    "['John','Adams2',1825,1829,'MA','7/11/1767','2/23/1848',57,80],\n",
    "['Andrew','Jackson',1829,1837,'SC','3/15/1767','6/8/1845',61,78],\n",
    "['Martin','Van Buren',1837,1841,'NY','12/5/1782','7/24/1862',54,79],\n",
    "['William','Harrison1',1841,1841,'VA','2/9/1773','4/4/1841',68,68],\n",
    "['John','Tyler',1841,1845,'VA','3/29/1790','1/18/1862',51,71],\n",
    "['James','Polk',1845,1849,'NC','11/2/1795','6/15/1849',49,53],\n",
    "['Zachary','Taylor',1849,1850,'VA','11/24/1784','7/9/1850',64,65],\n",
    "['Millard','Fillmore',1850,1853,'NY','1/7/1800','3/8/1874',50,74],\n",
    "['Franklin','Pierce',1853,1857,'NH','11/23/1804','10/8/1869',48,64],\n",
    "['James','Buchanan',1857,1861,'PA','4/23/1791','6/1/1868',65,77],\n",
    "['Abraham','Lincoln',1861,1865,'KY','2/12/1809','4/15/1865',52,56],\n",
    "['Andrew','Johnson',1865,1869,'NC','12/29/1808','7/31/1875',56,66],\n",
    "['Ulysses','Grant',1869,1877,'OH','4/27/1822','7/23/1885',46,63],\n",
    "['Rutherford','Hayes',1877,1881,'OH','10/4/1822','1/17/1893',54,70],\n",
    "['James','Garfield',1881,1881,'OH','11/19/1831','9/19/1881',49,49],\n",
    "['Chester','Arthur',1881,1885,'VT','10/5/1829','11/18/1886',50,56],\n",
    "['Grover','Cleveland1',1885,1889,'NJ','3/18/1837','6/24/1908',47,71],\n",
    "['Benjamin','Harrison2',1889,1893,'OH','8/20/1833','3/13/1901',55,67],\n",
    "['Grover','Cleveland2',1893,1897,'NJ','3/18/1837','6/24/1908',55,71]]"
   ]
  },
  {
   "cell_type": "markdown",
   "metadata": {},
   "source": [
    "**2.**"
   ]
  },
  {
   "cell_type": "code",
   "execution_count": 215,
   "metadata": {},
   "outputs": [],
   "source": [
    "def extract_column(data, column):\n",
    "    \"\"\"This function accepts a list name and a column number and returns a new list with the elements from the specified column.\"\"\"\n",
    "    newlist = list()\n",
    "    for i in range(len(data)):\n",
    "        newlist.append(data[i][column])\n",
    "    return newlist"
   ]
  },
  {
   "cell_type": "markdown",
   "metadata": {},
   "source": [
    "**3.**"
   ]
  },
  {
   "cell_type": "code",
   "execution_count": 193,
   "metadata": {},
   "outputs": [],
   "source": [
    "first_name = extract_column(presidents, 0)\n",
    "last_name = extract_column(presidents, 1)\n",
    "start_term = extract_column(presidents, 2)\n",
    "end_term = extract_column(presidents, 3)\n",
    "birth_state = extract_column(presidents, 4)\n",
    "birth_date = extract_column(presidents, 5)\n",
    "death_date = extract_column(presidents, 6)\n",
    "inauguration_age = extract_column(presidents, 7)\n",
    "death_age = extract_column(presidents, 8)"
   ]
  },
  {
   "cell_type": "markdown",
   "metadata": {},
   "source": [
    "**4.**"
   ]
  },
  {
   "cell_type": "code",
   "execution_count": 59,
   "metadata": {},
   "outputs": [
    {
     "name": "stdout",
     "output_type": "stream",
     "text": [
      "[('Washington', 'George'), ('Adams1', 'John'), ('Jefferson', 'Thomas'), ('Madison', 'James'), ('Monroe', 'James'), ('Adams2', 'John'), ('Jackson', 'Andrew'), ('Van Buren', 'Martin'), ('Harrison1', 'William'), ('Tyler', 'John'), ('Polk', 'James'), ('Taylor', 'Zachary'), ('Fillmore', 'Millard'), ('Pierce', 'Franklin'), ('Buchanan', 'James'), ('Lincoln', 'Abraham'), ('Johnson', 'Andrew'), ('Grant', 'Ulysses'), ('Hayes', 'Rutherford'), ('Garfield', 'James'), ('Arthur', 'Chester'), ('Cleveland1', 'Grover'), ('Harrison2', 'Benjamin'), ('Cleveland2', 'Grover')]\n"
     ]
    }
   ],
   "source": [
    "names = list(zip(last_name, first_name))\n",
    "print(names)"
   ]
  },
  {
   "cell_type": "markdown",
   "metadata": {},
   "source": [
    "**5.**"
   ]
  },
  {
   "cell_type": "code",
   "execution_count": 60,
   "metadata": {},
   "outputs": [
    {
     "name": "stdout",
     "output_type": "stream",
     "text": [
      "[('Adams1', 'John'), ('Adams2', 'John'), ('Arthur', 'Chester'), ('Buchanan', 'James'), ('Cleveland1', 'Grover'), ('Cleveland2', 'Grover'), ('Fillmore', 'Millard'), ('Garfield', 'James'), ('Grant', 'Ulysses'), ('Harrison1', 'William'), ('Harrison2', 'Benjamin'), ('Hayes', 'Rutherford'), ('Jackson', 'Andrew'), ('Jefferson', 'Thomas'), ('Johnson', 'Andrew'), ('Lincoln', 'Abraham'), ('Madison', 'James'), ('Monroe', 'James'), ('Pierce', 'Franklin'), ('Polk', 'James'), ('Taylor', 'Zachary'), ('Tyler', 'John'), ('Van Buren', 'Martin'), ('Washington', 'George')]\n"
     ]
    }
   ],
   "source": [
    "sorted_names = sorted(names)\n",
    "print(sorted_names)"
   ]
  },
  {
   "cell_type": "markdown",
   "metadata": {},
   "source": [
    "**6.**"
   ]
  },
  {
   "cell_type": "code",
   "execution_count": 61,
   "metadata": {},
   "outputs": [],
   "source": [
    "import statistics as stats"
   ]
  },
  {
   "cell_type": "code",
   "execution_count": 62,
   "metadata": {},
   "outputs": [],
   "source": [
    "mean_inaug_age = stats.mean(inauguration_age)\n",
    "mean_death_age = stats.mean(death_age)"
   ]
  },
  {
   "cell_type": "code",
   "execution_count": 63,
   "metadata": {},
   "outputs": [
    {
     "name": "stdout",
     "output_type": "stream",
     "text": [
      "55.041666666666664 69.83333333333333\n"
     ]
    }
   ],
   "source": [
    "print(mean_inaug_age, mean_death_age)"
   ]
  },
  {
   "cell_type": "markdown",
   "metadata": {},
   "source": [
    "**7.**"
   ]
  },
  {
   "cell_type": "code",
   "execution_count": 219,
   "metadata": {},
   "outputs": [],
   "source": [
    "def get_post_term(pres):\n",
    "    \"\"\"This function accepts the index of the persident from list 'presidents' and returns the calculated years that president lived after leaving office.\"\"\"\n",
    "    years_president = presidents[pres][3]-presidents[pres][2]\n",
    "    post_term = presidents[pres][8]-(presidents[pres][7]+years_president)\n",
    "    return post_term"
   ]
  },
  {
   "cell_type": "markdown",
   "metadata": {},
   "source": [
    "**8.**"
   ]
  },
  {
   "cell_type": "code",
   "execution_count": 123,
   "metadata": {},
   "outputs": [
    {
     "data": {
      "text/plain": [
       "2"
      ]
     },
     "execution_count": 123,
     "metadata": {},
     "output_type": "execute_result"
    }
   ],
   "source": [
    "get_post_term(0)"
   ]
  },
  {
   "cell_type": "code",
   "execution_count": 124,
   "metadata": {},
   "outputs": [
    {
     "data": {
      "text/plain": [
       "9"
      ]
     },
     "execution_count": 124,
     "metadata": {},
     "output_type": "execute_result"
    }
   ],
   "source": [
    "get_post_term(17)"
   ]
  },
  {
   "cell_type": "code",
   "execution_count": 125,
   "metadata": {},
   "outputs": [
    {
     "data": {
      "text/plain": [
       "0"
      ]
     },
     "execution_count": 125,
     "metadata": {},
     "output_type": "execute_result"
    }
   ],
   "source": [
    "get_post_term(15)"
   ]
  },
  {
   "cell_type": "markdown",
   "metadata": {},
   "source": [
    "**9.**"
   ]
  },
  {
   "cell_type": "code",
   "execution_count": 103,
   "metadata": {},
   "outputs": [],
   "source": [
    "presidents_index = list(range(24))"
   ]
  },
  {
   "cell_type": "code",
   "execution_count": 128,
   "metadata": {
    "scrolled": true
   },
   "outputs": [],
   "source": [
    "post_presidency = list(map(get_post_term, presidents_index))"
   ]
  },
  {
   "cell_type": "code",
   "execution_count": 217,
   "metadata": {},
   "outputs": [
    {
     "name": "stdout",
     "output_type": "stream",
     "text": [
      "[2, 25, 18, 20, 7, 19, 9, 21, 0, 16, 0, 0, 21, 12, 8, 0, 6, 9, 12, 0, 2, 20, 8, 12]\n"
     ]
    }
   ],
   "source": [
    "print(post_presidency)"
   ]
  },
  {
   "cell_type": "markdown",
   "metadata": {},
   "source": [
    "**10.**"
   ]
  },
  {
   "cell_type": "code",
   "execution_count": 131,
   "metadata": {},
   "outputs": [
    {
     "name": "stdout",
     "output_type": "stream",
     "text": [
      "10.291666666666666\n"
     ]
    }
   ],
   "source": [
    "mean_post_presidency = stats.mean(post_presidency)\n",
    "print(mean_post_presidency)"
   ]
  },
  {
   "cell_type": "markdown",
   "metadata": {},
   "source": [
    "**11.**"
   ]
  },
  {
   "cell_type": "code",
   "execution_count": 133,
   "metadata": {},
   "outputs": [],
   "source": [
    "from prettytable import PrettyTable"
   ]
  },
  {
   "cell_type": "code",
   "execution_count": 218,
   "metadata": {},
   "outputs": [],
   "source": [
    "def calculate_summary():\n",
    "    \"\"\"This function creates a table with the calculated means of age at inaguration, age at death, and years lived after presidency.\"\"\"\n",
    "    x = PrettyTable()\n",
    "    x.field_names = ['Mean Age at Inaguration', 'Mean Age at Death', 'Mean Number of Years after Presidency']\n",
    "    x.align = 'r'\n",
    "    x.add_row([(str(round(mean_inaug_age,2))+' years'), (str(round(mean_death_age,2))+' years'), (str(round(mean_post_presidency, 2))+' years')])\n",
    "    print(x)\n",
    "    return"
   ]
  },
  {
   "cell_type": "code",
   "execution_count": 170,
   "metadata": {
    "scrolled": true
   },
   "outputs": [
    {
     "name": "stdout",
     "output_type": "stream",
     "text": [
      "+-------------------------+-------------------+---------------------------------------+\n",
      "| Mean Age at Inaguration | Mean Age at Death | Mean Number of Years after Presidency |\n",
      "+-------------------------+-------------------+---------------------------------------+\n",
      "|             55.04 years |       69.83 years |                           10.29 years |\n",
      "+-------------------------+-------------------+---------------------------------------+\n"
     ]
    }
   ],
   "source": [
    "calculate_summary()"
   ]
  },
  {
   "cell_type": "markdown",
   "metadata": {},
   "source": [
    "**12.**"
   ]
  },
  {
   "cell_type": "code",
   "execution_count": 221,
   "metadata": {},
   "outputs": [],
   "source": [
    "def convert_to_dict(): \n",
    "    \"\"\"This function creates a new dictionary using the list 'last_name' as the keys and the list 'death_age' as the values.\"\"\"\n",
    "    new_dict = dict(zip(last_name, death_age))\n",
    "    return new_dict"
   ]
  },
  {
   "cell_type": "code",
   "execution_count": 223,
   "metadata": {},
   "outputs": [],
   "source": [
    "prez_dicts = convert_to_dict()"
   ]
  },
  {
   "cell_type": "code",
   "execution_count": 224,
   "metadata": {},
   "outputs": [
    {
     "name": "stdout",
     "output_type": "stream",
     "text": [
      "{'Washington': 67, 'Adams1': 90, 'Jefferson': 83, 'Madison': 85, 'Monroe': 73, 'Adams2': 80, 'Jackson': 78, 'Van Buren': 79, 'Harrison1': 68, 'Tyler': 71, 'Polk': 53, 'Taylor': 65, 'Fillmore': 74, 'Pierce': 64, 'Buchanan': 77, 'Lincoln': 56, 'Johnson': 66, 'Grant': 63, 'Hayes': 70, 'Garfield': 49, 'Arthur': 56, 'Cleveland1': 71, 'Harrison2': 67, 'Cleveland2': 71}\n"
     ]
    }
   ],
   "source": [
    "print(prez_dicts)"
   ]
  },
  {
   "cell_type": "markdown",
   "metadata": {},
   "source": [
    "**Bonus 1**"
   ]
  },
  {
   "cell_type": "code",
   "execution_count": 225,
   "metadata": {},
   "outputs": [],
   "source": [
    "def print_death_age():\n",
    "    \"\"\"This function prints a sentence stating when a president died for each president in aplhabetical order.\"\"\"\n",
    "    for key in sorted(prez_dicts):\n",
    "        print(\"President\", key, \"died at\", prez_dicts[key], \"years old.\")\n",
    "    return"
   ]
  },
  {
   "cell_type": "code",
   "execution_count": 226,
   "metadata": {},
   "outputs": [
    {
     "name": "stdout",
     "output_type": "stream",
     "text": [
      "President Adams1 died at 90 years old.\n",
      "President Adams2 died at 80 years old.\n",
      "President Arthur died at 56 years old.\n",
      "President Buchanan died at 77 years old.\n",
      "President Cleveland1 died at 71 years old.\n",
      "President Cleveland2 died at 71 years old.\n",
      "President Fillmore died at 74 years old.\n",
      "President Garfield died at 49 years old.\n",
      "President Grant died at 63 years old.\n",
      "President Harrison1 died at 68 years old.\n",
      "President Harrison2 died at 67 years old.\n",
      "President Hayes died at 70 years old.\n",
      "President Jackson died at 78 years old.\n",
      "President Jefferson died at 83 years old.\n",
      "President Johnson died at 66 years old.\n",
      "President Lincoln died at 56 years old.\n",
      "President Madison died at 85 years old.\n",
      "President Monroe died at 73 years old.\n",
      "President Pierce died at 64 years old.\n",
      "President Polk died at 53 years old.\n",
      "President Taylor died at 65 years old.\n",
      "President Tyler died at 71 years old.\n",
      "President Van Buren died at 79 years old.\n",
      "President Washington died at 67 years old.\n"
     ]
    }
   ],
   "source": [
    "print_death_age()"
   ]
  },
  {
   "cell_type": "markdown",
   "metadata": {},
   "source": [
    "**Bonus 2**"
   ]
  },
  {
   "cell_type": "code",
   "execution_count": 188,
   "metadata": {},
   "outputs": [],
   "source": [
    "ages = set(death_age)"
   ]
  },
  {
   "cell_type": "code",
   "execution_count": 227,
   "metadata": {},
   "outputs": [
    {
     "name": "stdout",
     "output_type": "stream",
     "text": [
      "{49, 53, 56, 63, 64, 65, 66, 67, 68, 70, 71, 73, 74, 77, 78, 79, 80, 83, 85, 90}\n"
     ]
    }
   ],
   "source": [
    "print(ages)"
   ]
  }
 ],
 "metadata": {
  "kernelspec": {
   "display_name": "Python 3",
   "language": "python",
   "name": "python3"
  },
  "language_info": {
   "codemirror_mode": {
    "name": "ipython",
    "version": 3
   },
   "file_extension": ".py",
   "mimetype": "text/x-python",
   "name": "python",
   "nbconvert_exporter": "python",
   "pygments_lexer": "ipython3",
   "version": "3.8.3"
  }
 },
 "nbformat": 4,
 "nbformat_minor": 4
}
